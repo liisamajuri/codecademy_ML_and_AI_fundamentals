{
 "cells": [
  {
   "cell_type": "code",
   "execution_count": 1,
   "metadata": {},
   "outputs": [],
   "source": [
    "import pandas as pd"
   ]
  },
  {
   "cell_type": "markdown",
   "metadata": {},
   "source": [
    "Import all the files"
   ]
  },
  {
   "cell_type": "code",
   "execution_count": 2,
   "metadata": {},
   "outputs": [],
   "source": [
    "visits = pd.read_csv('visits.csv',\n",
    "                     parse_dates=[1])\n",
    "cart = pd.read_csv('cart.csv',\n",
    "                   parse_dates=[1])\n",
    "                   \n",
    "checkout = pd.read_csv('checkout.csv',\n",
    "                       parse_dates=[1])\n",
    "purchase = pd.read_csv('purchase.csv',\n",
    "                       parse_dates=[1])"
   ]
  },
  {
   "cell_type": "markdown",
   "metadata": {},
   "source": [
    "Step 1: Inspect the DataFrames using `print` and `head`"
   ]
  },
  {
   "cell_type": "code",
   "execution_count": 3,
   "metadata": {},
   "outputs": [
    {
     "name": "stdout",
     "output_type": "stream",
     "text": [
      "                                user_id          visit_time\n",
      "0  943647ef-3682-4750-a2e1-918ba6f16188 2017-04-07 15:14:00\n",
      "1  0c3a3dd0-fb64-4eac-bf84-ba069ce409f2 2017-01-26 14:24:00\n",
      "2  6e0b2d60-4027-4d9a-babd-0e7d40859fb1 2017-08-20 08:23:00\n",
      "3  6879527e-c5a6-4d14-b2da-50b85212b0ab 2017-11-04 18:15:00\n",
      "4  a84327ff-5daa-4ba1-b789-d5b4caf81e96 2017-02-27 11:25:00\n",
      "                                user_id           cart_time\n",
      "0  2be90e7c-9cca-44e0-bcc5-124b945ff168 2017-11-07 20:45:00\n",
      "1  4397f73f-1da3-4ab3-91af-762792e25973 2017-05-27 01:35:00\n",
      "2  a9db3d4b-0a0a-4398-a55a-ebb2c7adf663 2017-03-04 10:38:00\n",
      "3  b594862a-36c5-47d5-b818-6e9512b939b3 2017-09-27 08:22:00\n",
      "4  a68a16e2-94f0-4ce8-8ce3-784af0bbb974 2017-07-26 15:48:00\n",
      "                                user_id       checkout_time\n",
      "0  d33bdc47-4afa-45bc-b4e4-dbe948e34c0d 2017-06-25 09:29:00\n",
      "1  4ac186f0-9954-4fea-8a27-c081e428e34e 2017-04-07 20:11:00\n",
      "2  3c9c78a7-124a-4b77-8d2e-e1926e011e7d 2017-07-13 11:38:00\n",
      "3  89fe330a-8966-4756-8f7c-3bdbcd47279a 2017-04-20 16:15:00\n",
      "4  3ccdaf69-2d30-40de-b083-51372881aedd 2017-01-08 20:52:00\n",
      "                                user_id       purchase_time\n",
      "0  4b44ace4-2721-47a0-b24b-15fbfa2abf85 2017-05-11 04:25:00\n",
      "1  02e684ae-a448-408f-a9ff-dcb4a5c99aac 2017-09-05 08:45:00\n",
      "2  4b4bc391-749e-4b90-ab8f-4f6e3c84d6dc 2017-11-20 20:49:00\n",
      "3  a5dbb25f-3c36-4103-9030-9f7c6241cd8d 2017-01-22 15:18:00\n",
      "4  46a3186d-7f5a-4ab9-87af-84d05bfd4867 2017-06-11 11:32:00\n"
     ]
    }
   ],
   "source": [
    "print(visits.head(5))\n",
    "print(cart.head(5))\n",
    "print(checkout.head(5))\n",
    "print(purchase.head(5))"
   ]
  },
  {
   "cell_type": "markdown",
   "metadata": {},
   "source": [
    "Step 2: Left merging visits and cart"
   ]
  },
  {
   "cell_type": "code",
   "execution_count": 5,
   "metadata": {},
   "outputs": [
    {
     "name": "stdout",
     "output_type": "stream",
     "text": [
      "                                user_id          visit_time  \\\n",
      "0  943647ef-3682-4750-a2e1-918ba6f16188 2017-04-07 15:14:00   \n",
      "1  0c3a3dd0-fb64-4eac-bf84-ba069ce409f2 2017-01-26 14:24:00   \n",
      "2  6e0b2d60-4027-4d9a-babd-0e7d40859fb1 2017-08-20 08:23:00   \n",
      "3  6879527e-c5a6-4d14-b2da-50b85212b0ab 2017-11-04 18:15:00   \n",
      "4  a84327ff-5daa-4ba1-b789-d5b4caf81e96 2017-02-27 11:25:00   \n",
      "5  7bc62113-d51d-4e6b-85e0-1cf29e3de74a 2017-06-03 20:05:00   \n",
      "6  6f22cd44-bc63-4449-a9af-2651859da2f9 2017-03-18 23:09:00   \n",
      "7  49a6399b-c095-4e42-92eb-af90abe2bb6a 2017-01-10 12:09:00   \n",
      "8  653c095d-fd74-40dd-ae3b-5a69a2613629 2017-06-27 19:21:00   \n",
      "9  3d9fdac1-aae3-4a01-b448-934d12047468 2017-09-24 06:43:00   \n",
      "\n",
      "            cart_time  \n",
      "0                 NaT  \n",
      "1 2017-01-26 14:44:00  \n",
      "2 2017-08-20 08:31:00  \n",
      "3                 NaT  \n",
      "4                 NaT  \n",
      "5                 NaT  \n",
      "6                 NaT  \n",
      "7                 NaT  \n",
      "8                 NaT  \n",
      "9                 NaT  \n"
     ]
    }
   ],
   "source": [
    "visits_cart = pd.merge(visits, cart, how='left')\n",
    "print(visits_cart.head(10))"
   ]
  },
  {
   "cell_type": "markdown",
   "metadata": {},
   "source": [
    "Step 3: How long is `visits_cart`?"
   ]
  },
  {
   "cell_type": "code",
   "execution_count": 7,
   "metadata": {},
   "outputs": [
    {
     "name": "stdout",
     "output_type": "stream",
     "text": [
      "2000\n"
     ]
    }
   ],
   "source": [
    "visit_total = len(visits_cart)\n",
    "print(visit_total)"
   ]
  },
  {
   "cell_type": "markdown",
   "metadata": {},
   "source": [
    "Step 4: How many timestamps are null for `cart_time`?"
   ]
  },
  {
   "cell_type": "code",
   "execution_count": 8,
   "metadata": {},
   "outputs": [
    {
     "name": "stdout",
     "output_type": "stream",
     "text": [
      "1652\n"
     ]
    }
   ],
   "source": [
    "nulls = visits_cart['cart_time'].isna().sum()\n",
    "print(nulls)"
   ]
  },
  {
   "cell_type": "markdown",
   "metadata": {},
   "source": [
    "Step 5: What percentage only visited?"
   ]
  },
  {
   "cell_type": "code",
   "execution_count": 9,
   "metadata": {},
   "outputs": [
    {
     "name": "stdout",
     "output_type": "stream",
     "text": [
      "82.6\n"
     ]
    }
   ],
   "source": [
    "only_visited = round(nulls / visit_total * 100, 1)\n",
    "print(only_visited)"
   ]
  },
  {
   "cell_type": "markdown",
   "metadata": {},
   "source": [
    "Step 6: What percentage placed a t-shirt in their cart but did not checkout?"
   ]
  },
  {
   "cell_type": "code",
   "execution_count": 30,
   "metadata": {},
   "outputs": [
    {
     "name": "stdout",
     "output_type": "stream",
     "text": [
      "                                user_id           cart_time  \\\n",
      "0  2be90e7c-9cca-44e0-bcc5-124b945ff168 2017-11-07 20:45:00   \n",
      "1  4397f73f-1da3-4ab3-91af-762792e25973 2017-05-27 01:35:00   \n",
      "2  a9db3d4b-0a0a-4398-a55a-ebb2c7adf663 2017-03-04 10:38:00   \n",
      "3  b594862a-36c5-47d5-b818-6e9512b939b3 2017-09-27 08:22:00   \n",
      "4  a68a16e2-94f0-4ce8-8ce3-784af0bbb974 2017-07-26 15:48:00   \n",
      "5  0c998868-9961-490b-8ec2-9981ba667027 2017-11-27 08:54:00   \n",
      "6  f783c680-1d9a-437d-9f45-7827299b78fa 2017-06-25 08:08:00   \n",
      "7  f3dd7631-3cf6-4d49-9c6e-b48eda4432b5 2017-01-04 09:57:00   \n",
      "8  4cdd357a-199e-4d81-ae9e-7252fa34ee0f 2017-05-23 22:25:00   \n",
      "9  3c3460b3-a56d-4d92-908d-29dcca34db18 2017-01-06 14:56:00   \n",
      "\n",
      "        checkout_time  \n",
      "0 2017-11-07 21:14:00  \n",
      "1                 NaT  \n",
      "2 2017-03-04 11:04:00  \n",
      "3 2017-09-27 08:26:00  \n",
      "4                 NaT  \n",
      "5 2017-11-27 09:18:00  \n",
      "6 2017-06-25 08:28:00  \n",
      "7 2017-01-04 10:20:00  \n",
      "8 2017-05-23 22:54:00  \n",
      "9 2017-01-06 15:06:00  \n",
      "348\n",
      "122\n",
      "\n",
      "35.1\n"
     ]
    }
   ],
   "source": [
    "cart_checkout = pd.merge(cart, checkout, how='left')\n",
    "print(cart_checkout.head(10))\n",
    "\n",
    "cart_total = cart_checkout['cart_time'].count()\n",
    "print(cart_total)\n",
    "\n",
    "nulls2 = cart_checkout['checkout_time'].isna().sum()\n",
    "print(nulls2)\n",
    "\n",
    "print()\n",
    "\n",
    "only_cart = round(nulls2 / cart_total * 100, 1)\n",
    "print(only_cart)"
   ]
  },
  {
   "cell_type": "markdown",
   "metadata": {},
   "source": [
    "Step 7: Merge it all together"
   ]
  },
  {
   "cell_type": "code",
   "execution_count": 22,
   "metadata": {},
   "outputs": [
    {
     "name": "stdout",
     "output_type": "stream",
     "text": [
      "                                user_id          visit_time  \\\n",
      "0  943647ef-3682-4750-a2e1-918ba6f16188 2017-04-07 15:14:00   \n",
      "1  0c3a3dd0-fb64-4eac-bf84-ba069ce409f2 2017-01-26 14:24:00   \n",
      "2  6e0b2d60-4027-4d9a-babd-0e7d40859fb1 2017-08-20 08:23:00   \n",
      "3  6879527e-c5a6-4d14-b2da-50b85212b0ab 2017-11-04 18:15:00   \n",
      "4  a84327ff-5daa-4ba1-b789-d5b4caf81e96 2017-02-27 11:25:00   \n",
      "5  7bc62113-d51d-4e6b-85e0-1cf29e3de74a 2017-06-03 20:05:00   \n",
      "6  6f22cd44-bc63-4449-a9af-2651859da2f9 2017-03-18 23:09:00   \n",
      "7  49a6399b-c095-4e42-92eb-af90abe2bb6a 2017-01-10 12:09:00   \n",
      "8  653c095d-fd74-40dd-ae3b-5a69a2613629 2017-06-27 19:21:00   \n",
      "9  3d9fdac1-aae3-4a01-b448-934d12047468 2017-09-24 06:43:00   \n",
      "\n",
      "            cart_time       checkout_time       purchase_time  \n",
      "0                 NaT                 NaT                 NaT  \n",
      "1 2017-01-26 14:44:00 2017-01-26 14:54:00 2017-01-26 15:08:00  \n",
      "2 2017-08-20 08:31:00                 NaT                 NaT  \n",
      "3                 NaT                 NaT                 NaT  \n",
      "4                 NaT                 NaT                 NaT  \n",
      "5                 NaT                 NaT                 NaT  \n",
      "6                 NaT                 NaT                 NaT  \n",
      "7                 NaT                 NaT                 NaT  \n",
      "8                 NaT                 NaT                 NaT  \n",
      "9                 NaT                 NaT                 NaT  \n"
     ]
    }
   ],
   "source": [
    "v_c_c = pd.merge(visits_cart, cart_checkout, how='left')\n",
    "all_data =  pd.merge(v_c_c, purchase, how='left')\n",
    "print(all_data.head(10))\n"
   ]
  },
  {
   "cell_type": "markdown",
   "metadata": {},
   "source": [
    "Step 8: % of users who got to checkout but did not purchase"
   ]
  },
  {
   "cell_type": "code",
   "execution_count": 32,
   "metadata": {},
   "outputs": [
    {
     "name": "stdout",
     "output_type": "stream",
     "text": [
      "334\n",
      "82\n",
      "\n",
      "24.6\n"
     ]
    }
   ],
   "source": [
    "process_total = all_data['checkout_time'].count()\n",
    "print(process_total)\n",
    "\n",
    "not_null = all_data['purchase_time'].count()\n",
    "nulls3 = process_total - not_null\n",
    "print(nulls3)\n",
    "\n",
    "print()\n",
    "\n",
    "only_checkout = round(nulls3 / process_total * 100, 1)\n",
    "print(only_checkout)"
   ]
  },
  {
   "cell_type": "markdown",
   "metadata": {},
   "source": [
    "Step 9: check each part of the funnel, let's print all 3 of them again"
   ]
  },
  {
   "cell_type": "code",
   "execution_count": 33,
   "metadata": {},
   "outputs": [
    {
     "name": "stdout",
     "output_type": "stream",
     "text": [
      "82.6 % of users who only visited\n",
      "35.1 % of users who placed a t-shirt in their cart but did not checkout\n",
      "24.6 % of users who got to checkout but did not purchase\n"
     ]
    }
   ],
   "source": [
    "print(f'{only_visited} % of users who only visited')\n",
    "print(f'{only_cart} % of users who placed a t-shirt in their cart but did not checkout')\n",
    "print(f'{only_checkout} % of users who got to checkout but did not purchase')"
   ]
  },
  {
   "cell_type": "markdown",
   "metadata": {},
   "source": [
    "*The weakest part of the funnel is clearly getting a person who visited the site to add a tshirt to their cart. Once they've added a t-shirt to their cart it is fairly likely they end up purchasing it. A suggestion could be to make the add-to-cart button more prominent on the front page.*\n",
    "\n",
    "\n",
    "Step 10: adding new column"
   ]
  },
  {
   "cell_type": "code",
   "execution_count": 24,
   "metadata": {},
   "outputs": [],
   "source": [
    "all_data['total_time'] = all_data['purchase_time'] - all_data['visit_time']\n"
   ]
  },
  {
   "cell_type": "markdown",
   "metadata": {},
   "source": [
    "Step 11: examine the results"
   ]
  },
  {
   "cell_type": "code",
   "execution_count": 25,
   "metadata": {},
   "outputs": [
    {
     "name": "stdout",
     "output_type": "stream",
     "text": [
      "0                  NaT\n",
      "1      0 days 00:44:00\n",
      "2                  NaT\n",
      "3                  NaT\n",
      "4                  NaT\n",
      "             ...      \n",
      "2103               NaT\n",
      "2104               NaT\n",
      "2105               NaT\n",
      "2106               NaT\n",
      "2107               NaT\n",
      "Name: total_time, Length: 2108, dtype: timedelta64[ns]\n"
     ]
    }
   ],
   "source": [
    "print(all_data['total_time'])"
   ]
  },
  {
   "cell_type": "markdown",
   "metadata": {},
   "source": [
    "Step 12: average time to purchase"
   ]
  },
  {
   "cell_type": "code",
   "execution_count": 29,
   "metadata": {},
   "outputs": [
    {
     "name": "stdout",
     "output_type": "stream",
     "text": [
      "The average time to purchase: 43:12\n"
     ]
    }
   ],
   "source": [
    "import datetime\n",
    "\n",
    "avg_total_time = all_data['total_time'].mean()\n",
    "formatted_time = datetime.timedelta(seconds=int(avg_total_time.total_seconds()))\n",
    "\n",
    "minutes = formatted_time.seconds // 60\n",
    "seconds = formatted_time.seconds % 60\n",
    "\n",
    "print(f'The average time to purchase: {minutes:02d}:{seconds:02d}')"
   ]
  },
  {
   "cell_type": "code",
   "execution_count": null,
   "metadata": {},
   "outputs": [],
   "source": []
  }
 ],
 "metadata": {
  "kernelspec": {
   "display_name": "Python 3 (ipykernel)",
   "language": "python",
   "name": "python3"
  },
  "language_info": {
   "codemirror_mode": {
    "name": "ipython",
    "version": 3
   },
   "file_extension": ".py",
   "mimetype": "text/x-python",
   "name": "python",
   "nbconvert_exporter": "python",
   "pygments_lexer": "ipython3",
   "version": "3.9.13"
  }
 },
 "nbformat": 4,
 "nbformat_minor": 4
}
