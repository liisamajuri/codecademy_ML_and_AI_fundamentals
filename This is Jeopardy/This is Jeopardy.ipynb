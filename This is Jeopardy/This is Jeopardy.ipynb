{
 "cells": [
  {
   "cell_type": "markdown",
   "metadata": {},
   "source": [
    "# This is Jeopardy!"
   ]
  },
  {
   "cell_type": "markdown",
   "metadata": {},
   "source": [
    "#### Overview"
   ]
  },
  {
   "cell_type": "markdown",
   "metadata": {},
   "source": [
    "This project is slightly different than others you have encountered thus far. Instead of a step-by-step tutorial, this project contains a series of open-ended requirements which describe the project you'll be building. There are many possible ways to correctly fulfill all of these requirements, and you should expect to use the internet, Codecademy, and/or other resources when you encounter a problem that you cannot easily solve."
   ]
  },
  {
   "cell_type": "markdown",
   "metadata": {},
   "source": [
    "#### Project Goals"
   ]
  },
  {
   "cell_type": "markdown",
   "metadata": {},
   "source": [
    "You will work to write several functions that investigate a dataset of _Jeopardy!_ questions and answers. Filter the dataset for topics that you're interested in, compute the average difficulty of those questions, and train to become the next Jeopardy champion!"
   ]
  },
  {
   "cell_type": "markdown",
   "metadata": {},
   "source": [
    "## Prerequisites"
   ]
  },
  {
   "cell_type": "markdown",
   "metadata": {},
   "source": [
    "In order to complete this project, you should have completed the Pandas lessons in the <a href=\"https://www.codecademy.com/learn/paths/analyze-data-with-python\">Analyze Data with Python Skill Path</a>. You can also find those lessons in the <a href=\"https://www.codecademy.com/learn/data-processing-pandas\">Data Analysis with Pandas course</a> or the <a href=\"https://www.codecademy.com/learn/paths/data-science/\">Data Scientist Career Path</a>.\n",
    "\n",
    "Finally, the <a href=\"https://www.codecademy.com/learn/practical-data-cleaning\">Practical Data Cleaning</a> course may also be helpful."
   ]
  },
  {
   "cell_type": "markdown",
   "metadata": {},
   "source": [
    "## Project Requirements"
   ]
  },
  {
   "cell_type": "markdown",
   "metadata": {},
   "source": [
    "1. We've provided a csv file containing data about the game show _Jeopardy!_ in a file named `jeopardy.csv`. Load the data into a DataFrame and investigate its contents. Try to print out specific columns.\n",
    "\n",
    "   Note that in order to make this project as \"real-world\" as possible, we haven't modified the data at all - we're giving it to you exactly how we found it. As a result, this data isn't as \"clean\" as the datasets you normally find on Codecademy. More specifically, there's something odd about the column names. After you figure out the problem with the column names, you may want to rename them to make your life easier for the rest of the project.\n",
    "   \n",
    "   In order to display the full contents of a column, we've added this line of code for you:\n",
    "   \n",
    "   ```py\n",
    "   pd.set_option('display.max_colwidth', None)\n",
    "   ```"
   ]
  },
  {
   "cell_type": "code",
   "execution_count": 1,
   "metadata": {},
   "outputs": [],
   "source": [
    "import pandas as pd\n",
    "import re\n",
    "pd.set_option('display.max_colwidth', None)"
   ]
  },
  {
   "cell_type": "code",
   "execution_count": 2,
   "metadata": {},
   "outputs": [
    {
     "name": "stdout",
     "output_type": "stream",
     "text": [
      "   Show Number    Air Date      Round                         Category  Value  \\\n",
      "0         4680  2004-12-31  Jeopardy!                          HISTORY   $200   \n",
      "1         4680  2004-12-31  Jeopardy!  ESPN's TOP 10 ALL-TIME ATHLETES   $200   \n",
      "2         4680  2004-12-31  Jeopardy!      EVERYBODY TALKS ABOUT IT...   $200   \n",
      "3         4680  2004-12-31  Jeopardy!                 THE COMPANY LINE   $200   \n",
      "4         4680  2004-12-31  Jeopardy!              EPITAPHS & TRIBUTES   $200   \n",
      "5         4680  2004-12-31  Jeopardy!                   3-LETTER WORDS   $200   \n",
      "6         4680  2004-12-31  Jeopardy!                          HISTORY   $400   \n",
      "7         4680  2004-12-31  Jeopardy!  ESPN's TOP 10 ALL-TIME ATHLETES   $400   \n",
      "8         4680  2004-12-31  Jeopardy!      EVERYBODY TALKS ABOUT IT...   $400   \n",
      "9         4680  2004-12-31  Jeopardy!                 THE COMPANY LINE   $400   \n",
      "\n",
      "                                                                                                        Question  \\\n",
      "0               For the last 8 years of his life, Galileo was under house arrest for espousing this man's theory   \n",
      "1    No. 2: 1912 Olympian; football star at Carlisle Indian School; 6 MLB seasons with the Reds, Giants & Braves   \n",
      "2                       The city of Yuma in this state has a record average of 4,055 hours of sunshine each year   \n",
      "3                           In 1963, live on \"The Art Linkletter Show\", this company served its billionth burger   \n",
      "4       Signer of the Dec. of Indep., framer of the Constitution of Mass., second President of the United States   \n",
      "5                                  In the title of an Aesop fable, this insect shared billing with a grasshopper   \n",
      "6                                   Built in 312 B.C. to link Rome & the South of Italy, it's still in use today   \n",
      "7                                         No. 8: 30 steals for the Birmingham Barons; 2,306 steals for the Bulls   \n",
      "8  In the winter of 1971-72, a record 1,122 inches of snow fell at Rainier Paradise Ranger Station in this state   \n",
      "9             This housewares store was named for the packaging its merchandise came in & was first displayed on   \n",
      "\n",
      "           Answer  \n",
      "0      Copernicus  \n",
      "1      Jim Thorpe  \n",
      "2         Arizona  \n",
      "3      McDonald's  \n",
      "4      John Adams  \n",
      "5         the ant  \n",
      "6  the Appian Way  \n",
      "7  Michael Jordan  \n",
      "8      Washington  \n",
      "9  Crate & Barrel  \n",
      "   episode        date      round                         category value  \\\n",
      "0     4680  2004-12-31  Jeopardy!                          HISTORY  $200   \n",
      "1     4680  2004-12-31  Jeopardy!  ESPN's TOP 10 ALL-TIME ATHLETES  $200   \n",
      "2     4680  2004-12-31  Jeopardy!      EVERYBODY TALKS ABOUT IT...  $200   \n",
      "3     4680  2004-12-31  Jeopardy!                 THE COMPANY LINE  $200   \n",
      "4     4680  2004-12-31  Jeopardy!              EPITAPHS & TRIBUTES  $200   \n",
      "5     4680  2004-12-31  Jeopardy!                   3-LETTER WORDS  $200   \n",
      "6     4680  2004-12-31  Jeopardy!                          HISTORY  $400   \n",
      "7     4680  2004-12-31  Jeopardy!  ESPN's TOP 10 ALL-TIME ATHLETES  $400   \n",
      "8     4680  2004-12-31  Jeopardy!      EVERYBODY TALKS ABOUT IT...  $400   \n",
      "9     4680  2004-12-31  Jeopardy!                 THE COMPANY LINE  $400   \n",
      "\n",
      "                                                                                                        question  \\\n",
      "0               For the last 8 years of his life, Galileo was under house arrest for espousing this man's theory   \n",
      "1    No. 2: 1912 Olympian; football star at Carlisle Indian School; 6 MLB seasons with the Reds, Giants & Braves   \n",
      "2                       The city of Yuma in this state has a record average of 4,055 hours of sunshine each year   \n",
      "3                           In 1963, live on \"The Art Linkletter Show\", this company served its billionth burger   \n",
      "4       Signer of the Dec. of Indep., framer of the Constitution of Mass., second President of the United States   \n",
      "5                                  In the title of an Aesop fable, this insect shared billing with a grasshopper   \n",
      "6                                   Built in 312 B.C. to link Rome & the South of Italy, it's still in use today   \n",
      "7                                         No. 8: 30 steals for the Birmingham Barons; 2,306 steals for the Bulls   \n",
      "8  In the winter of 1971-72, a record 1,122 inches of snow fell at Rainier Paradise Ranger Station in this state   \n",
      "9             This housewares store was named for the packaging its merchandise came in & was first displayed on   \n",
      "\n",
      "           answer  \n",
      "0      Copernicus  \n",
      "1      Jim Thorpe  \n",
      "2         Arizona  \n",
      "3      McDonald's  \n",
      "4      John Adams  \n",
      "5         the ant  \n",
      "6  the Appian Way  \n",
      "7  Michael Jordan  \n",
      "8      Washington  \n",
      "9  Crate & Barrel  \n"
     ]
    }
   ],
   "source": [
    "jeopardy_df = pd.read_csv('jeopardy.csv')\n",
    "print(jeopardy_df.head(10))\n",
    "jeopardy_df.columns = ['episode', 'date', 'round', 'category', 'value', 'question', 'answer']\n",
    "print(jeopardy_df.head(10))"
   ]
  },
  {
   "cell_type": "markdown",
   "metadata": {},
   "source": [
    "2. Write a function that filters the dataset for questions that contains all of the words in a list of words. For example, when the list `[\"King\", \"England\"]` was passed to our function, the function returned a DataFrame of 49 rows. Every row had the strings `\"King\"` and `\"England\"` somewhere in its `\" Question\"`.\n",
    "\n",
    "   Test your function by printing out the column containing the question of each row of the dataset."
   ]
  },
  {
   "cell_type": "code",
   "execution_count": 3,
   "metadata": {},
   "outputs": [
    {
     "name": "stdout",
     "output_type": "stream",
     "text": [
      "     episode        date             round            category  value  \\\n",
      "56      5957  2010-07-06         Jeopardy!       GEOGRAPHY \"E\"   $200   \n",
      "116     5957  2010-07-06   Final Jeopardy!      HISTORIC WOMEN   None   \n",
      "146     3751  2000-12-18  Double Jeopardy!   PEOPLE IN HISTORY   $200   \n",
      "296     4931  2006-02-06   Final Jeopardy!        FAMOUS SHIPS   None   \n",
      "386     2825  1996-12-06         Jeopardy!       ANNUAL EVENTS   $500   \n",
      "399     2825  1996-12-06  Double Jeopardy!               POETS   $400   \n",
      "545     3036  1997-11-10         Jeopardy!        ON THE RADIO   $200   \n",
      "621     4107  2002-06-11         Jeopardy!  \"BLACK\" OR \"WHITE\"  $1000   \n",
      "811     4335  2003-06-06  Double Jeopardy!         \"S\"-OTERICA   $400   \n",
      "847     4541  2004-05-10         Jeopardy!  HISTORIC NICKNAMES   $600   \n",
      "\n",
      "                                                                                            question  \\\n",
      "56                                                    It's the largest kingdom in the United Kingdom   \n",
      "116                             She was born in Virginia around 1596 & died in Kent, England in 1617   \n",
      "146  After a 15-year stay in England, this proprietor of Pennsylvania returned to his colony in 1699   \n",
      "296         On December 27, 1831 it departed Plymouth, England to map the coastline of South America   \n",
      "386           The Tanglewood Music Festival is a summer highlight in Lenox in this New England state   \n",
      "399                              Between 1842 & 1885, he repeatedly revised his \"Idylls of the King\"   \n",
      "545                  Robin Quivers is the radio consort of this self-proclaimed  \"King of All Media\"   \n",
      "621                               Famous landmark composed of chalk in the county of Kent in England   \n",
      "811                   Examples of this TV format include \"Leave It to Beaver\" & \"The King of Queens\"   \n",
      "847                      This animal phrase meaning \"courageous\" was Richard I of England's nickname   \n",
      "\n",
      "                        answer  \n",
      "56                     England  \n",
      "116                 Pocahontas  \n",
      "146               William Penn  \n",
      "296             the HMS Beagle  \n",
      "386              Massachusetts  \n",
      "399       Alfred Lord Tennyson  \n",
      "545               Howard Stern  \n",
      "621  the White Cliffs of Dover  \n",
      "811                     sitcom  \n",
      "847            the Lionhearted  \n",
      "\n",
      "Questiens with given key words: 2674\n"
     ]
    }
   ],
   "source": [
    "def filter_questions_original(df, words):\n",
    "    df_copy = df.copy()\n",
    "    \n",
    "    filtered_df = df_copy[df_copy['question'].str.contains('|'.join(words))]\n",
    "    \n",
    "    return filtered_df\n",
    "\n",
    "words = [\"King\", \"England\"]\n",
    "filtered_df = filter_questions_original(jeopardy_df, words)\n",
    "\n",
    "print(filtered_df.head(10))\n",
    "print()\n",
    "print(f'Questiens with given key words: {len(filtered_df)}')"
   ]
  },
  {
   "cell_type": "markdown",
   "metadata": {},
   "source": [
    "3. Test your original function with a few different sets of words to try to find some ways your function breaks. Edit your function so it is more robust.\n",
    "\n",
    "   For example, think about capitalization. We probably want to find questions that contain the word `\"King\"` or `\"king\"`.\n",
    "   \n",
    "   You may also want to check to make sure you don't find rows that contain substrings of your given words. For example, our function found a question that didn't contain the word `\"king\"`, however it did contain the word `\"viking\"` &mdash; it found the `\"king\"` inside `\"viking\"`. Note that this also comes with some drawbacks &mdash; you would no longer find questions that contained words like `\"England's\"`."
   ]
  },
  {
   "cell_type": "code",
   "execution_count": 4,
   "metadata": {},
   "outputs": [
    {
     "name": "stdout",
     "output_type": "stream",
     "text": [
      "\n",
      "Questiens with given key words: 118\n"
     ]
    }
   ],
   "source": [
    "def filter_questions_updated(df, words):\n",
    "    df_copy = df.copy()\n",
    "    df_copy['question'] = df_copy['question'].apply(str.lower)\n",
    "    words = list(pd.Series(words).str.lower())\n",
    "    \n",
    "    filtered_df = df_copy[df_copy['question'].apply(lambda x: all(re.search(r'\\b{}\\b'.format(word), x) for word in words))]\n",
    "    \n",
    "    return filtered_df\n",
    "\n",
    "\n",
    "if __name__ == \"__main__\":\n",
    "    original_df = jeopardy_df.copy()\n",
    "    words = [\"King\", \"England\"]\n",
    "    words_df = filter_questions_updated(original_df, words)\n",
    "\n",
    "    #print(words_df.head(10))\n",
    "    print()\n",
    "    print(f'Questiens with given key words: {len(words_df)}')"
   ]
  },
  {
   "cell_type": "markdown",
   "metadata": {},
   "source": [
    "4. We may want to eventually compute aggregate statistics, like `.mean()` on the `\" Value\"` column. But right now, the values in that column are strings. Convert the`\" Value\"` column to floats. If you'd like to, you can create a new column with float values.\n",
    "\n",
    "   Now that you can filter the dataset of question, use your new column that contains the float values of each question to find the \"difficulty\" of certain topics. For example, what is the average value of questions that contain the word `\"King\"`?\n",
    "   \n",
    "   Make sure to use the dataset that contains the float values as the dataset you use in your filtering function."
   ]
  },
  {
   "cell_type": "code",
   "execution_count": 5,
   "metadata": {},
   "outputs": [
    {
     "name": "stdout",
     "output_type": "stream",
     "text": [
      "\n",
      "Questions with word King: 2744\n",
      "\n",
      "Average value of questions with word King: 817.6\n"
     ]
    }
   ],
   "source": [
    "def values_to_float(filtered_df):\n",
    "    if filtered_df['value'].dtype == object:\n",
    "        filtered_df['value'] = filtered_df['value'].str.replace('[^\\d.]', '', regex=True)\n",
    "        filtered_df['value'] = pd.to_numeric(filtered_df['value'], errors='coerce')\n",
    "    filtered_df['value'] = filtered_df['value'].apply(lambda x: round(x, 2))\n",
    "    return filtered_df\n",
    "\n",
    "\n",
    "if __name__ == \"__main__\":\n",
    "    words = ['King']\n",
    "    original_df = jeopardy_df.copy()\n",
    "\n",
    "    words_df = filter_questions_updated(original_df, words)\n",
    "    words_df = values_to_float(words_df)\n",
    "    print()\n",
    "    values_mean = round(words_df['value'].mean(), 2)\n",
    "    print(f'Questions with word King: {len(words_df)}')\n",
    "    print()\n",
    "    print(f'Average value of questions with word King: {values_mean}')\n",
    "\n",
    "    "
   ]
  },
  {
   "cell_type": "markdown",
   "metadata": {},
   "source": [
    "5. Write a function that returns the count of unique answers to all of the questions in a dataset. For example, after filtering the entire dataset to only questions containing the word `\"King\"`, we could then find all of the unique answers to those questions. The answer \"Henry VIII\" appeared 55 times and was the most common answer."
   ]
  },
  {
   "cell_type": "code",
   "execution_count": 7,
   "metadata": {},
   "outputs": [
    {
     "name": "stdout",
     "output_type": "stream",
     "text": [
      "\n",
      "Unique answers for questions with word King: 1499\n",
      "\n",
      "Examples of answers for questions with word King: \n",
      "Yertle\n",
      "Bartholomew Cubbins\n",
      "Alfred Lord Tennyson\n",
      "Howard Stern\n",
      "castle\n",
      "sitcom\n",
      "Louisiana\n",
      "Poland\n",
      "Hank Aaron\n",
      "Crusades\n"
     ]
    }
   ],
   "source": [
    "def get_unique_answers(filtered_df):\n",
    "    uniques_list = filtered_df['answer'].unique()\n",
    "    unique_count = filtered_df['answer'].nunique()\n",
    "    return unique_count, uniques_list\n",
    "\n",
    "if __name__ == \"__main__\":\n",
    "    words = ['King']\n",
    "    original_df = jeopardy_df.copy()\n",
    "\n",
    "    words_df = filter_questions_updated(original_df, words)\n",
    "    words_df = values_to_float(words_df)\n",
    "    print()\n",
    "    uniq_num, uniq_list = get_unique_answers(words_df)\n",
    "    print(f'Unique answers for questions with word King: {uniq_num}')\n",
    "    print()\n",
    "    print(f'Examples of answers for questions with word King: ')\n",
    "    for i in range(10):\n",
    "        print(uniq_list[i])"
   ]
  },
  {
   "cell_type": "markdown",
   "metadata": {},
   "source": [
    "6. Explore from here! This is an incredibly rich dataset, and there are so many interesting things to discover. There are a few columns that we haven't even started looking at yet. Here are some ideas on ways to continue working with this data:\n",
    "\n",
    " * Investigate the ways in which questions change over time by filtering by the date. How many questions from the 90s use the word `\"Computer\"` compared to questions from the 2000s?\n",
    " * Is there a connection between the round and the category? Are you more likely to find certain categories, like `\"Literature\"` in Single Jeopardy or Double Jeopardy?\n",
    " * Build a system to quiz yourself. Grab random questions, and use the <a href=\"https://docs.python.org/3/library/functions.html#input\">input</a> function to get a response from the user. Check to see if that response was right or wrong."
   ]
  },
  {
   "cell_type": "code",
   "execution_count": 14,
   "metadata": {},
   "outputs": [
    {
     "name": "stdout",
     "output_type": "stream",
     "text": [
      "Questiens with word \"Computer\" before 2000s: 84\n",
      "\n",
      "Questiens with word \"Computer\" in the 2000s: 278\n"
     ]
    }
   ],
   "source": [
    "def compare_dates(filtered_df):\n",
    "\n",
    "    count_before_2000 = filtered_df[filtered_df['date'] < '2000-01-01']['answer'].count()\n",
    "    count_after_2000 = filtered_df[filtered_df['date'] >= '2000-01-01']['answer'].count()\n",
    "    return count_before_2000, count_after_2000\n",
    "    \n",
    "if __name__ == \"__main__\":\n",
    "    words = ['Computer']\n",
    "    original_df = jeopardy_df.copy()\n",
    "\n",
    "    words_df = filter_questions_updated(original_df, words)\n",
    "    words_df = values_to_float(words_df)\n",
    "    \n",
    "    before, after = compare_dates(words_df)\n",
    "    \n",
    "    print(f'Questiens with word \"Computer\" before 2000s: {before}')\n",
    "    print()\n",
    "    print(f'Questiens with word \"Computer\" in the 2000s: {after}')\n",
    "    "
   ]
  },
  {
   "cell_type": "code",
   "execution_count": 18,
   "metadata": {},
   "outputs": [
    {
     "name": "stdout",
     "output_type": "stream",
     "text": [
      "              round  category\n",
      "0  Double Jeopardy!       381\n",
      "1   Final Jeopardy!        10\n",
      "2         Jeopardy!       105\n"
     ]
    }
   ],
   "source": [
    "def compare_rounds(modified_df, category):\n",
    "    df_copy = modified_df.copy()\n",
    "    df_copy['category'] = df_copy['category'].apply(str.lower)\n",
    "    category = category[0].lower()\n",
    "    \n",
    "    category_df = df_copy[df_copy['category'] == category]\n",
    "    \n",
    "    grouped_df = category_df.groupby('round')['category'].count().reset_index() \n",
    "    return grouped_df\n",
    "    \n",
    "if __name__ == \"__main__\":\n",
    "    category = ['Literature']\n",
    "    original_df = jeopardy_df.copy()\n",
    "    modified_df = values_to_float(original_df)\n",
    "    \n",
    "    grouped_df = compare_rounds(modified_df, category)\n",
    "    print(grouped_df)"
   ]
  },
  {
   "cell_type": "code",
   "execution_count": 25,
   "metadata": {},
   "outputs": [
    {
     "name": "stdout",
     "output_type": "stream",
     "text": [
      "Welcome to Jeopardy quiz demo!\n",
      "\n",
      "Select the category. \n",
      " The options: ['HISTORY' \"ESPN's TOP 10 ALL-TIME ATHLETES\" 'EVERYBODY TALKS ABOUT IT...'\n",
      " ... 'OFF-BROADWAY' 'RIDDLE ME THIS' 'AUTHORS IN THEIR YOUTH'] \n",
      "\n",
      "Enter the category: EVERYBODY TALKS ABOUT IT...\n",
      "Select the question number between 0 and 4. \n",
      "\n",
      "Enter the question number: 1\n",
      "In the winter of 1971-72, a record 1,122 inches of snow fell at Rainier Paradise Ranger Station in this state\n",
      "Enter the answer: New York\n",
      "Oh no! Wrong answer. The correct one is: Washington\n"
     ]
    }
   ],
   "source": [
    "def simple_quiz():\n",
    "    original_df = jeopardy_df.copy()\n",
    "    modified_df = values_to_float(original_df)    \n",
    "    \n",
    "    categories = modified_df['category'].unique()\n",
    "    \n",
    "    print('Welcome to Jeopardy quiz demo!' + \"\\n\")\n",
    "    print(f'Select the category. \\n The options: {categories} \\n')\n",
    "    category = input(\"Enter the category: \")\n",
    "    \n",
    "    category_df = modified_df[modified_df['category'] == category]\n",
    "    \n",
    "    print(f'Select the question number between 0 and {len(category_df)}. \\n')\n",
    "    question_no = int(input(\"Enter the question number: \"))\n",
    "    \n",
    "    question_df = category_df.iloc[question_no]\n",
    "    \n",
    "    print(question_df[5])\n",
    "    \n",
    "    answer = input(\"Enter the answer: \")\n",
    "    \n",
    "    if question_df[6] != answer:\n",
    "        print(f\"Oh no! Wrong answer. The correct one is: {question_df['answer']}\")\n",
    "    else:\n",
    "        print(f'Concrats! You got it right!')\n",
    "\n",
    "if __name__ == \"__main__\":\n",
    "    simple_quiz()"
   ]
  },
  {
   "cell_type": "markdown",
   "metadata": {},
   "source": [
    "## Solution"
   ]
  },
  {
   "cell_type": "markdown",
   "metadata": {},
   "source": [
    "7. Compare your program to our <a href=\"https://content.codecademy.com/PRO/independent-practice-projects/jeopardy/jeopardy_solution.zip\">sample solution code</a> - remember, that your program might look different from ours (and probably will) and that's okay!"
   ]
  },
  {
   "cell_type": "markdown",
   "metadata": {},
   "source": [
    "8. Great work! Visit <a href=\"https://discuss.codecademy.com/t/this-is-jeopardy-challenge-project-python-pandas/462365\">our forums</a> to compare your project to our sample solution code. You can also learn how to host your own solution on GitHub so you can share it with other learners! Your solution might look different from ours, and that's okay! There are multiple ways to solve these projects, and you'll learn more by seeing others' code."
   ]
  },
  {
   "cell_type": "code",
   "execution_count": null,
   "metadata": {},
   "outputs": [],
   "source": []
  }
 ],
 "metadata": {
  "kernelspec": {
   "display_name": "Python 3 (ipykernel)",
   "language": "python",
   "name": "python3"
  },
  "language_info": {
   "codemirror_mode": {
    "name": "ipython",
    "version": 3
   },
   "file_extension": ".py",
   "mimetype": "text/x-python",
   "name": "python",
   "nbconvert_exporter": "python",
   "pygments_lexer": "ipython3",
   "version": "3.9.13"
  }
 },
 "nbformat": 4,
 "nbformat_minor": 2
}
