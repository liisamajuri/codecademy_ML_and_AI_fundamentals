{
 "cells": [
  {
   "cell_type": "markdown",
   "id": "f4c71b09",
   "metadata": {},
   "source": [
    "# EDA: Diagnosing Diabetes"
   ]
  },
  {
   "cell_type": "markdown",
   "id": "7cf00067",
   "metadata": {},
   "source": [
    "In this project, you'll imagine you are a data scientist interested in exploring data that looks at how certain diagnostic factors affect the diabetes outcome of women patients.\n",
    "\n",
    "You will use your EDA skills to help inspect, clean, and validate the data.\n",
    "\n",
    "**Note**: This [dataset](https://www.kaggle.com/uciml/pima-indians-diabetes-database) is from the National Institute of Diabetes and Digestive and Kidney Diseases. It contains the following columns:\n",
    "\n",
    "- `Pregnancies`: Number of times pregnant\n",
    "- `Glucose`: Plasma glucose concentration per 2 hours in an oral glucose tolerance test\n",
    "- `BloodPressure`: Diastolic blood pressure\n",
    "- `SkinThickness`: Triceps skinfold thickness\n",
    "- `Insulin`: 2-Hour serum insulin\n",
    "- `BMI`: Body mass index\n",
    "- `DiabetesPedigreeFunction`: Diabetes pedigree function\n",
    "- `Age`: Age (years)\n",
    "- `Outcome`: Class variable (0 or 1)\n",
    "\n",
    "Let's get started!"
   ]
  },
  {
   "cell_type": "markdown",
   "id": "6e1cc217",
   "metadata": {},
   "source": [
    "## Initial Inspection"
   ]
  },
  {
   "cell_type": "markdown",
   "id": "76684c5b",
   "metadata": {},
   "source": [
    "1. First, familiarize yourself with the dataset [here](https://www.kaggle.com/uciml/pima-indians-diabetes-database).\n",
    "\n",
    "   Look at each of the nine columns in the documentation.\n",
    "   \n",
    "   What do you expect each data type to be?"
   ]
  },
  {
   "cell_type": "markdown",
   "id": "f7bdb023",
   "metadata": {},
   "source": [
    "Expected data type for each column:\n",
    "\n",
    "- `Pregnancies`: int\n",
    "- `Glucose`: int\n",
    "- `BloodPressure`: int \n",
    "- `SkinThickness`: int\n",
    "- `Insulin`: int\n",
    "- `BMI`: float\n",
    "- `DiabetesPedigreeFunction`: float \n",
    "- `Age`: int\n",
    "- `Outcome`: bool"
   ]
  },
  {
   "cell_type": "markdown",
   "id": "fc54249b",
   "metadata": {},
   "source": [
    "2. Next, let's load in the diabetes data to start exploring.\n",
    "\n",
    "   Load the data in a variable called `diabetes_data` and print the first few rows.\n",
    "   \n",
    "   **Note**: The data is stored in a file called `diabetes.csv`."
   ]
  },
  {
   "cell_type": "code",
   "execution_count": 1,
   "id": "4839762f",
   "metadata": {},
   "outputs": [
    {
     "name": "stdout",
     "output_type": "stream",
     "text": [
      "   Pregnancies  Glucose  BloodPressure  SkinThickness  Insulin   BMI  \\\n",
      "0            6      148             72             35        0  33.6   \n",
      "1            1       85             66             29        0  26.6   \n",
      "2            8      183             64              0        0  23.3   \n",
      "3            1       89             66             23       94  28.1   \n",
      "4            0      137             40             35      168  43.1   \n",
      "5            5      116             74              0        0  25.6   \n",
      "6            3       78             50             32       88  31.0   \n",
      "7           10      115              0              0        0  35.3   \n",
      "8            2      197             70             45      543  30.5   \n",
      "9            8      125             96              0        0   0.0   \n",
      "\n",
      "   DiabetesPedigreeFunction  Age Outcome  \n",
      "0                     0.627   50       1  \n",
      "1                     0.351   31       0  \n",
      "2                     0.672   32       1  \n",
      "3                     0.167   21       0  \n",
      "4                     2.288   33       1  \n",
      "5                     0.201   30       0  \n",
      "6                     0.248   26       1  \n",
      "7                     0.134   29       0  \n",
      "8                     0.158   53       1  \n",
      "9                     0.232   54       1  \n"
     ]
    }
   ],
   "source": [
    "import pandas as pd\n",
    "import numpy as np\n",
    "\n",
    "diabetes_data = pd.read_csv('diabetes.csv')\n",
    "print(diabetes_data.head(10))"
   ]
  },
  {
   "cell_type": "markdown",
   "id": "90d35b44",
   "metadata": {},
   "source": [
    "3. How many columns (features) does the data contain?"
   ]
  },
  {
   "cell_type": "code",
   "execution_count": 2,
   "id": "c7fc98c4",
   "metadata": {},
   "outputs": [
    {
     "name": "stdout",
     "output_type": "stream",
     "text": [
      "Columns: 9\n"
     ]
    }
   ],
   "source": [
    "print(f'Columns: {diabetes_data.shape[1]}')"
   ]
  },
  {
   "cell_type": "markdown",
   "id": "35d2bf80",
   "metadata": {},
   "source": [
    "4. How many rows (observations) does the data contain?"
   ]
  },
  {
   "cell_type": "code",
   "execution_count": 3,
   "id": "190b7a90",
   "metadata": {},
   "outputs": [
    {
     "name": "stdout",
     "output_type": "stream",
     "text": [
      "Rows: 768\n"
     ]
    }
   ],
   "source": [
    "print(f'Rows: {diabetes_data.shape[0]}')\n"
   ]
  },
  {
   "cell_type": "markdown",
   "id": "65d8ddf0",
   "metadata": {},
   "source": [
    "## Further Inspection"
   ]
  },
  {
   "cell_type": "markdown",
   "id": "04e3c6ef",
   "metadata": {},
   "source": [
    "5. Let's inspect `diabetes_data` further.\n",
    "\n",
    "   Do any of the columns in the data contain null (missing) values?"
   ]
  },
  {
   "cell_type": "code",
   "execution_count": 4,
   "id": "d0fa3860",
   "metadata": {},
   "outputs": [
    {
     "name": "stdout",
     "output_type": "stream",
     "text": [
      "<class 'pandas.core.frame.DataFrame'>\n",
      "RangeIndex: 768 entries, 0 to 767\n",
      "Data columns (total 9 columns):\n",
      " #   Column                    Non-Null Count  Dtype  \n",
      "---  ------                    --------------  -----  \n",
      " 0   Pregnancies               768 non-null    int64  \n",
      " 1   Glucose                   768 non-null    int64  \n",
      " 2   BloodPressure             768 non-null    int64  \n",
      " 3   SkinThickness             768 non-null    int64  \n",
      " 4   Insulin                   768 non-null    int64  \n",
      " 5   BMI                       768 non-null    float64\n",
      " 6   DiabetesPedigreeFunction  768 non-null    float64\n",
      " 7   Age                       768 non-null    int64  \n",
      " 8   Outcome                   768 non-null    object \n",
      "dtypes: float64(2), int64(6), object(1)\n",
      "memory usage: 54.1+ KB\n",
      "\n",
      "Based ONLY on .info()-method it seems that there is no missing values.\n"
     ]
    }
   ],
   "source": [
    "diabetes_data.info()\n",
    "print('\\nBased ONLY on .info()-method it seems that there is no missing values.')"
   ]
  },
  {
   "cell_type": "markdown",
   "id": "8ee62c01",
   "metadata": {},
   "source": [
    "6. If you answered no to the question above, not so fast!\n",
    "\n",
    "   While it's technically true that none of the columns contain null values, that doesn't necessarily mean that the data isn't missing any values.\n",
    "   \n",
    "   When exploring data, you should always question your assumptions and try to dig deeper.\n",
    "   \n",
    "   To investigate further, calculate summary statistics on `diabetes_data` using the `.describe()` method."
   ]
  },
  {
   "cell_type": "code",
   "execution_count": 5,
   "id": "451efb00",
   "metadata": {},
   "outputs": [
    {
     "name": "stdout",
     "output_type": "stream",
     "text": [
      "        Pregnancies     Glucose  BloodPressure  SkinThickness     Insulin  \\\n",
      "count    768.000000  768.000000     768.000000     768.000000  768.000000   \n",
      "unique          NaN         NaN            NaN            NaN         NaN   \n",
      "top             NaN         NaN            NaN            NaN         NaN   \n",
      "freq            NaN         NaN            NaN            NaN         NaN   \n",
      "mean       3.845052  120.894531      69.105469      20.536458   79.799479   \n",
      "std        3.369578   31.972618      19.355807      15.952218  115.244002   \n",
      "min        0.000000    0.000000       0.000000       0.000000    0.000000   \n",
      "25%        1.000000   99.000000      62.000000       0.000000    0.000000   \n",
      "50%        3.000000  117.000000      72.000000      23.000000   30.500000   \n",
      "75%        6.000000  140.250000      80.000000      32.000000  127.250000   \n",
      "max       17.000000  199.000000     122.000000      99.000000  846.000000   \n",
      "\n",
      "               BMI  DiabetesPedigreeFunction         Age Outcome  \n",
      "count   768.000000                768.000000  768.000000     768  \n",
      "unique         NaN                       NaN         NaN       3  \n",
      "top            NaN                       NaN         NaN       0  \n",
      "freq           NaN                       NaN         NaN     494  \n",
      "mean     31.992578                  0.471876   33.240885     NaN  \n",
      "std       7.884160                  0.331329   11.760232     NaN  \n",
      "min       0.000000                  0.078000   21.000000     NaN  \n",
      "25%      27.300000                  0.243750   24.000000     NaN  \n",
      "50%      32.000000                  0.372500   29.000000     NaN  \n",
      "75%      36.600000                  0.626250   41.000000     NaN  \n",
      "max      67.100000                  2.420000   81.000000     NaN  \n"
     ]
    }
   ],
   "source": [
    "print(diabetes_data.describe(include='all'))\n"
   ]
  },
  {
   "cell_type": "markdown",
   "id": "ad900272",
   "metadata": {},
   "source": [
    "7. Looking at the summary statistics, do you notice anything odd about the following columns?\n",
    "\n",
    "   - `Glucose`\n",
    "   - `BloodPressure`\n",
    "   - `SkinThickness`\n",
    "   - `Insulin`\n",
    "   - `BMI`"
   ]
  },
  {
   "cell_type": "markdown",
   "id": "7131eacb",
   "metadata": {},
   "source": [
    "**Your response to question 7**:\n",
    "\n",
    "- Minimiarvot ovat nollia, mikä ei käytännössä ole elävällä ihmisellä mahdollisia"
   ]
  },
  {
   "cell_type": "markdown",
   "id": "3ed15b79",
   "metadata": {},
   "source": [
    "8. Do you spot any other outliers in the data?"
   ]
  },
  {
   "cell_type": "markdown",
   "id": "8a708e88",
   "metadata": {},
   "source": [
    "**Your response to question 8**:\n",
    "\n",
    "- Myös monet maksimiarvot poikkeavat merkittävästi keskiarvosta / mediaanista\n",
    "\n",
    "- Outcome-sarakkeessa on käytetty puuttuvana arvona 'o', mistä johtuen sarakkeen tietotyyppi on object. Käsittely alla.\n"
   ]
  },
  {
   "cell_type": "code",
   "execution_count": 6,
   "id": "fb835788",
   "metadata": {},
   "outputs": [
    {
     "name": "stdout",
     "output_type": "stream",
     "text": [
      "['1' '0' 'O']\n",
      "O\n"
     ]
    }
   ],
   "source": [
    "outcome_uniques = diabetes_data['Outcome'].unique()\n",
    "print(outcome_uniques)\n",
    "wrong = outcome_uniques[2]\n",
    "print(wrong)\n"
   ]
  },
  {
   "cell_type": "code",
   "execution_count": 7,
   "id": "0e6a14c0",
   "metadata": {},
   "outputs": [
    {
     "name": "stdout",
     "output_type": "stream",
     "text": [
      "['1' '0' nan]\n"
     ]
    }
   ],
   "source": [
    "diabetes_data['Outcome'].replace(wrong, np.nan, inplace=True)\n",
    "print(diabetes_data['Outcome'].unique())"
   ]
  },
  {
   "cell_type": "markdown",
   "id": "4b5bcf47",
   "metadata": {},
   "source": [
    "9. Let's see if we can get a more accurate view of the missing values in the data.\n",
    "\n",
    "   Use the following code to replace the instances of `0` with `NaN` in the five columns mentioned:\n",
    "   \n",
    "   ```py\n",
    "   diabetes_data[['Glucose', 'BloodPressure', 'SkinThickness', 'Insulin', 'BMI']] = diabetes_data[['Glucose', 'BloodPressure', 'SkinThickness', 'Insulin', 'BMI']].replace(0, np.NaN)\n",
    "   ```"
   ]
  },
  {
   "cell_type": "code",
   "execution_count": 8,
   "id": "623def40",
   "metadata": {},
   "outputs": [],
   "source": [
    "diabetes_data[['Glucose','BloodPressure','SkinThickness','Insulin','BMI']] = diabetes_data[['Glucose','BloodPressure','SkinThickness','Insulin','BMI']].replace(0,np.nan)\n"
   ]
  },
  {
   "cell_type": "markdown",
   "id": "ad9fc71d",
   "metadata": {},
   "source": [
    "10. Next, check for missing (null) values in all of the columns just like you did in Step 5.\n",
    "\n",
    "    Now how many missing values are there?"
   ]
  },
  {
   "cell_type": "code",
   "execution_count": 9,
   "id": "1e4d2845",
   "metadata": {},
   "outputs": [
    {
     "name": "stdout",
     "output_type": "stream",
     "text": [
      "<class 'pandas.core.frame.DataFrame'>\n",
      "RangeIndex: 768 entries, 0 to 767\n",
      "Data columns (total 9 columns):\n",
      " #   Column                    Non-Null Count  Dtype  \n",
      "---  ------                    --------------  -----  \n",
      " 0   Pregnancies               768 non-null    int64  \n",
      " 1   Glucose                   763 non-null    float64\n",
      " 2   BloodPressure             733 non-null    float64\n",
      " 3   SkinThickness             541 non-null    float64\n",
      " 4   Insulin                   394 non-null    float64\n",
      " 5   BMI                       757 non-null    float64\n",
      " 6   DiabetesPedigreeFunction  768 non-null    float64\n",
      " 7   Age                       768 non-null    int64  \n",
      " 8   Outcome                   762 non-null    object \n",
      "dtypes: float64(6), int64(2), object(1)\n",
      "memory usage: 54.1+ KB\n",
      "\n",
      "Glucose            5\n",
      "BloodPressure     35\n",
      "SkinThickness    227\n",
      "Insulin          374\n",
      "BMI               11\n",
      "dtype: int64\n"
     ]
    }
   ],
   "source": [
    "diabetes_data.info()\n",
    "print()\n",
    "count_nans = diabetes_data[['Glucose','BloodPressure','SkinThickness','Insulin','BMI']].isna().sum()\n",
    "print(count_nans)\n"
   ]
  },
  {
   "cell_type": "markdown",
   "id": "4265329e",
   "metadata": {},
   "source": [
    "11. Let's take a closer look at these rows to get a better idea of _why_ some data might be missing.\n",
    "\n",
    "    Print out all the rows that contain missing (null) values."
   ]
  },
  {
   "cell_type": "code",
   "execution_count": 10,
   "id": "91f5b1fe",
   "metadata": {},
   "outputs": [
    {
     "name": "stdout",
     "output_type": "stream",
     "text": [
      "    Pregnancies  Glucose  BloodPressure  SkinThickness  Insulin   BMI  \\\n",
      "0             6    148.0           72.0           35.0      NaN  33.6   \n",
      "1             1     85.0           66.0           29.0      NaN  26.6   \n",
      "2             8    183.0           64.0            NaN      NaN  23.3   \n",
      "5             5    116.0           74.0            NaN      NaN  25.6   \n",
      "7            10    115.0            NaN            NaN      NaN  35.3   \n",
      "9             8    125.0           96.0            NaN      NaN   NaN   \n",
      "10            4    110.0           92.0            NaN      NaN  37.6   \n",
      "11           10    168.0           74.0            NaN      NaN  38.0   \n",
      "12           10    139.0           80.0            NaN      NaN  27.1   \n",
      "15            7    100.0            NaN            NaN      NaN  30.0   \n",
      "17            7    107.0           74.0            NaN      NaN  29.6   \n",
      "21            8     99.0           84.0            NaN      NaN  35.4   \n",
      "22            7    196.0           90.0            NaN      NaN  39.8   \n",
      "23            9    119.0           80.0           35.0      NaN  29.0   \n",
      "26            7    147.0           76.0            NaN      NaN  39.4   \n",
      "29            5    117.0           92.0            NaN      NaN  34.1   \n",
      "30            5    109.0           75.0           26.0      NaN  36.0   \n",
      "33            6     92.0           92.0            NaN      NaN  19.9   \n",
      "34           10    122.0           78.0           31.0      NaN  27.6   \n",
      "36           11    138.0           76.0            NaN      NaN  33.2   \n",
      "\n",
      "    DiabetesPedigreeFunction  Age Outcome  \n",
      "0                      0.627   50       1  \n",
      "1                      0.351   31       0  \n",
      "2                      0.672   32       1  \n",
      "5                      0.201   30       0  \n",
      "7                      0.134   29       0  \n",
      "9                      0.232   54       1  \n",
      "10                     0.191   30       0  \n",
      "11                     0.537   34       1  \n",
      "12                     1.441   57       0  \n",
      "15                     0.484   32       1  \n",
      "17                     0.254   31       1  \n",
      "21                     0.388   50       0  \n",
      "22                     0.451   41       1  \n",
      "23                     0.263   29       1  \n",
      "26                     0.257   43       1  \n",
      "29                     0.337   38       0  \n",
      "30                     0.546   60       0  \n",
      "33                     0.188   28       0  \n",
      "34                     0.512   45       0  \n",
      "36                     0.420   35       0  \n"
     ]
    }
   ],
   "source": [
    "nan_rows = diabetes_data[diabetes_data.isnull().any(axis=1)]\n",
    "print(nan_rows.head(20))\n"
   ]
  },
  {
   "cell_type": "markdown",
   "id": "e3f06a2e",
   "metadata": {},
   "source": [
    "12. Go through the rows with missing data. Do you notice any patterns or overlaps between the missing data?"
   ]
  },
  {
   "cell_type": "markdown",
   "id": "cb42cfe6",
   "metadata": {},
   "source": [
    "**Your response to question 12**:\n",
    "\n",
    "- Useilla riveilla arvoja puuttuu useammastakin sarakkeesta -> jos puuttuu jostain muusta, niin yleensä aina puuttuu myös insulin-sarakkeesta"
   ]
  },
  {
   "cell_type": "markdown",
   "id": "5b597d09",
   "metadata": {},
   "source": [
    "13. Next, take a closer look at the data types of each column in `diabetes_data`.\n",
    "\n",
    "    Does the result match what you would expect?"
   ]
  },
  {
   "cell_type": "code",
   "execution_count": 11,
   "id": "5855aa09",
   "metadata": {},
   "outputs": [
    {
     "name": "stdout",
     "output_type": "stream",
     "text": [
      "<class 'pandas.core.frame.DataFrame'>\n",
      "RangeIndex: 768 entries, 0 to 767\n",
      "Data columns (total 9 columns):\n",
      " #   Column                    Non-Null Count  Dtype  \n",
      "---  ------                    --------------  -----  \n",
      " 0   Pregnancies               768 non-null    int64  \n",
      " 1   Glucose                   763 non-null    float64\n",
      " 2   BloodPressure             733 non-null    float64\n",
      " 3   SkinThickness             541 non-null    float64\n",
      " 4   Insulin                   394 non-null    float64\n",
      " 5   BMI                       757 non-null    float64\n",
      " 6   DiabetesPedigreeFunction  768 non-null    float64\n",
      " 7   Age                       768 non-null    int64  \n",
      " 8   Outcome                   762 non-null    object \n",
      "dtypes: float64(6), int64(2), object(1)\n",
      "memory usage: 54.1+ KB\n",
      "\n"
     ]
    }
   ],
   "source": [
    "diabetes_data.info()\n",
    "print()\n"
   ]
  },
  {
   "cell_type": "markdown",
   "id": "c61b8b02",
   "metadata": {},
   "source": [
    "14. To figure out why the `Outcome` column is of type `object` (string) instead of type `int64`, print out the unique values in the `Outcome` column."
   ]
  },
  {
   "cell_type": "code",
   "execution_count": 12,
   "id": "ffedd117",
   "metadata": {},
   "outputs": [
    {
     "name": "stdout",
     "output_type": "stream",
     "text": [
      "['1' '0' nan]\n"
     ]
    }
   ],
   "source": [
    "print(diabetes_data['Outcome'].unique())"
   ]
  },
  {
   "cell_type": "markdown",
   "id": "42b3bcbe",
   "metadata": {},
   "source": [
    "15. How might you resolve this issue?"
   ]
  },
  {
   "cell_type": "code",
   "execution_count": 13,
   "id": "6074af18",
   "metadata": {},
   "outputs": [
    {
     "name": "stdout",
     "output_type": "stream",
     "text": [
      "\n",
      "['1' '0' '-1']\n",
      "\n",
      "[ 1.  0. -1.]\n",
      "\n",
      "[ 1.  0. nan]\n",
      "\n",
      "<class 'pandas.core.frame.DataFrame'>\n",
      "RangeIndex: 768 entries, 0 to 767\n",
      "Data columns (total 9 columns):\n",
      " #   Column                    Non-Null Count  Dtype  \n",
      "---  ------                    --------------  -----  \n",
      " 0   Pregnancies               768 non-null    int64  \n",
      " 1   Glucose                   763 non-null    float64\n",
      " 2   BloodPressure             733 non-null    float64\n",
      " 3   SkinThickness             541 non-null    float64\n",
      " 4   Insulin                   394 non-null    float64\n",
      " 5   BMI                       757 non-null    float64\n",
      " 6   DiabetesPedigreeFunction  768 non-null    float64\n",
      " 7   Age                       768 non-null    int64  \n",
      " 8   Outcome                   762 non-null    float64\n",
      "dtypes: float64(7), int64(2)\n",
      "memory usage: 54.1 KB\n",
      "None\n"
     ]
    }
   ],
   "source": [
    "diabetes_data['Outcome'].fillna('-1', inplace=True)\n",
    "print()\n",
    "print(diabetes_data['Outcome'].unique())\n",
    "print()\n",
    "diabetes_data['Outcome'] = diabetes_data['Outcome'].astype('float64')\n",
    "print(diabetes_data['Outcome'].unique())\n",
    "print()\n",
    "diabetes_data['Outcome'].replace(-1, np.nan, inplace=True)\n",
    "print(diabetes_data['Outcome'].unique())\n",
    "print()\n",
    "print(diabetes_data.info())\n"
   ]
  },
  {
   "cell_type": "code",
   "execution_count": 14,
   "id": "ad6ca9a9",
   "metadata": {},
   "outputs": [
    {
     "name": "stdout",
     "output_type": "stream",
     "text": [
      "<class 'pandas.core.series.Series'>\n",
      "RangeIndex: 768 entries, 0 to 767\n",
      "Series name: Outcome\n",
      "Non-Null Count  Dtype  \n",
      "--------------  -----  \n",
      "762 non-null    float64\n",
      "dtypes: float64(1)\n",
      "memory usage: 6.1 KB\n",
      "None\n"
     ]
    }
   ],
   "source": [
    "print(diabetes_data['Outcome'].info())"
   ]
  },
  {
   "cell_type": "markdown",
   "id": "7495f5b6",
   "metadata": {},
   "source": [
    "**Your response to question 15**:"
   ]
  },
  {
   "cell_type": "markdown",
   "id": "d6cf49be",
   "metadata": {},
   "source": [
    "Ratkaisu toteutettu yllä, eli:\n",
    "\n",
    "1.) 'O'-puuttuvat arvot muutettu np.nan-arvoiksi jo kohdassa 8\n",
    "\n",
    "2.) Muutettu nan-arvot muotoon '-1'\n",
    "\n",
    "3.) Muutettu sarake float64-muotoon\n",
    "\n",
    "4.) Muutettu -1 -arvot muotoon np.nan"
   ]
  },
  {
   "cell_type": "markdown",
   "id": "9c5fbcbe",
   "metadata": {},
   "source": [
    "## Next Steps:"
   ]
  },
  {
   "cell_type": "markdown",
   "id": "22a324d0",
   "metadata": {},
   "source": [
    "16. Congratulations! In this project, you saw how EDA can help with the initial data inspection and cleaning process. This is an important step as it helps to keep your datasets clean and reliable.\n",
    "\n",
    "    Here are some ways you might extend this project if you'd like:\n",
    "    - Use `.value_counts()` to more fully explore the values in each column.\n",
    "    - Investigate other outliers in the data that may be easily overlooked.\n",
    "    - Instead of changing the `0` values in the five columns to `NaN`, try replacing the values with the median or mean of each column."
   ]
  },
  {
   "cell_type": "code",
   "execution_count": 15,
   "id": "b7f440b6",
   "metadata": {},
   "outputs": [
    {
     "name": "stdout",
     "output_type": "stream",
     "text": [
      "1     135\n",
      "0     111\n",
      "2     103\n",
      "3      75\n",
      "4      68\n",
      "5      57\n",
      "6      50\n",
      "7      45\n",
      "8      38\n",
      "9      28\n",
      "10     24\n",
      "11     11\n",
      "13     10\n",
      "12      9\n",
      "14      2\n",
      "15      1\n",
      "17      1\n",
      "Name: Pregnancies, dtype: int64\n",
      "99.0     17\n",
      "100.0    17\n",
      "111.0    14\n",
      "129.0    14\n",
      "125.0    14\n",
      "         ..\n",
      "191.0     1\n",
      "177.0     1\n",
      "44.0      1\n",
      "62.0      1\n",
      "190.0     1\n",
      "Name: Glucose, Length: 135, dtype: int64\n",
      "70.0     57\n",
      "74.0     52\n",
      "78.0     45\n",
      "68.0     45\n",
      "72.0     44\n",
      "64.0     43\n",
      "80.0     40\n",
      "76.0     39\n",
      "60.0     37\n",
      "62.0     34\n",
      "66.0     30\n",
      "82.0     30\n",
      "88.0     25\n",
      "84.0     23\n",
      "90.0     22\n",
      "58.0     21\n",
      "86.0     21\n",
      "50.0     13\n",
      "56.0     12\n",
      "52.0     11\n",
      "54.0     11\n",
      "75.0      8\n",
      "92.0      8\n",
      "65.0      7\n",
      "94.0      6\n",
      "85.0      6\n",
      "48.0      5\n",
      "96.0      4\n",
      "44.0      4\n",
      "98.0      3\n",
      "100.0     3\n",
      "106.0     3\n",
      "110.0     3\n",
      "55.0      2\n",
      "30.0      2\n",
      "104.0     2\n",
      "46.0      2\n",
      "108.0     2\n",
      "61.0      1\n",
      "38.0      1\n",
      "24.0      1\n",
      "122.0     1\n",
      "102.0     1\n",
      "95.0      1\n",
      "40.0      1\n",
      "114.0     1\n",
      "Name: BloodPressure, dtype: int64\n",
      "32.0    31\n",
      "30.0    27\n",
      "27.0    23\n",
      "23.0    22\n",
      "28.0    20\n",
      "33.0    20\n",
      "18.0    20\n",
      "31.0    19\n",
      "19.0    18\n",
      "39.0    18\n",
      "29.0    17\n",
      "25.0    16\n",
      "37.0    16\n",
      "40.0    16\n",
      "22.0    16\n",
      "26.0    16\n",
      "35.0    15\n",
      "41.0    15\n",
      "36.0    14\n",
      "15.0    14\n",
      "17.0    14\n",
      "20.0    13\n",
      "24.0    12\n",
      "42.0    11\n",
      "13.0    11\n",
      "21.0    10\n",
      "46.0     8\n",
      "34.0     8\n",
      "12.0     7\n",
      "38.0     7\n",
      "45.0     6\n",
      "16.0     6\n",
      "43.0     6\n",
      "11.0     6\n",
      "14.0     6\n",
      "44.0     5\n",
      "10.0     5\n",
      "47.0     4\n",
      "48.0     4\n",
      "50.0     3\n",
      "49.0     3\n",
      "54.0     2\n",
      "7.0      2\n",
      "52.0     2\n",
      "8.0      2\n",
      "56.0     1\n",
      "51.0     1\n",
      "60.0     1\n",
      "63.0     1\n",
      "99.0     1\n",
      "Name: SkinThickness, dtype: int64\n",
      "105.0    11\n",
      "130.0     9\n",
      "140.0     9\n",
      "120.0     8\n",
      "94.0      7\n",
      "         ..\n",
      "73.0      1\n",
      "171.0     1\n",
      "255.0     1\n",
      "52.0      1\n",
      "112.0     1\n",
      "Name: Insulin, Length: 185, dtype: int64\n",
      "32.0    13\n",
      "31.6    12\n",
      "31.2    12\n",
      "32.4    10\n",
      "33.3    10\n",
      "        ..\n",
      "36.7     1\n",
      "41.8     1\n",
      "42.6     1\n",
      "42.8     1\n",
      "46.3     1\n",
      "Name: BMI, Length: 247, dtype: int64\n",
      "0.258    6\n",
      "0.254    6\n",
      "0.268    5\n",
      "0.207    5\n",
      "0.261    5\n",
      "        ..\n",
      "1.353    1\n",
      "0.655    1\n",
      "0.092    1\n",
      "0.926    1\n",
      "0.171    1\n",
      "Name: DiabetesPedigreeFunction, Length: 517, dtype: int64\n",
      "22    72\n",
      "21    63\n",
      "25    48\n",
      "24    46\n",
      "23    38\n",
      "28    35\n",
      "26    33\n",
      "27    32\n",
      "29    29\n",
      "31    24\n",
      "41    22\n",
      "30    21\n",
      "37    19\n",
      "42    18\n",
      "33    17\n",
      "38    16\n",
      "36    16\n",
      "32    16\n",
      "45    15\n",
      "34    14\n",
      "46    13\n",
      "43    13\n",
      "40    13\n",
      "39    12\n",
      "35    10\n",
      "50     8\n",
      "51     8\n",
      "52     8\n",
      "44     8\n",
      "58     7\n",
      "47     6\n",
      "54     6\n",
      "49     5\n",
      "48     5\n",
      "57     5\n",
      "53     5\n",
      "60     5\n",
      "66     4\n",
      "63     4\n",
      "62     4\n",
      "55     4\n",
      "67     3\n",
      "56     3\n",
      "59     3\n",
      "65     3\n",
      "69     2\n",
      "61     2\n",
      "72     1\n",
      "81     1\n",
      "64     1\n",
      "70     1\n",
      "68     1\n",
      "Name: Age, dtype: int64\n",
      "0.0    494\n",
      "1.0    268\n",
      "Name: Outcome, dtype: int64\n"
     ]
    }
   ],
   "source": [
    "for column in diabetes_data:\n",
    "    counts = diabetes_data[column].value_counts()\n",
    "    print(counts)"
   ]
  },
  {
   "cell_type": "code",
   "execution_count": 16,
   "id": "0cd52c72",
   "metadata": {},
   "outputs": [
    {
     "data": {
      "image/png": "[encoded data removed]",
      "text/plain": [
       "<Figure size 640x480 with 1 Axes>"
      ]
     },
     "metadata": {},
     "output_type": "display_data"
    },
    {
     "data": {
      "image/png": "[encoded data removed]",
      "text/plain": [
       "<Figure size 640x480 with 1 Axes>"
      ]
     },
     "metadata": {},
     "output_type": "display_data"
    },
    {
     "data": {
      "image/png": "[encoded data removed]",
      "text/plain": [
       "<Figure size 640x480 with 1 Axes>"
      ]
     },
     "metadata": {},
     "output_type": "display_data"
    },
    {
     "data": {
      "image/png": "[encoded data removed]",
      "text/plain": [
       "<Figure size 640x480 with 1 Axes>"
      ]
     },
     "metadata": {},
     "output_type": "display_data"
    },
    {
     "data": {
      "image/png": "[encoded data removed]",
      "text/plain": [
       "<Figure size 640x480 with 1 Axes>"
      ]
     },
     "metadata": {},
     "output_type": "display_data"
    },
    {
     "data": {
      "image/png": "[encoded data removed]",
      "text/plain": [
       "<Figure size 640x480 with 1 Axes>"
      ]
     },
     "metadata": {},
     "output_type": "display_data"
    },
    {
     "data": {
      "image/png": "[encoded data removed]",
      "text/plain": [
       "<Figure size 640x480 with 1 Axes>"
      ]
     },
     "metadata": {},
     "output_type": "display_data"
    },
    {
     "data": {
      "image/png": "[encoded data removed]",
      "text/plain": [
       "<Figure size 640x480 with 1 Axes>"
      ]
     },
     "metadata": {},
     "output_type": "display_data"
    },
    {
     "data": {
      "image/png": "[encoded data removed]",
      "text/plain": [
       "<Figure size 640x480 with 1 Axes>"
      ]
     },
     "metadata": {},
     "output_type": "display_data"
    }
   ],
   "source": [
    "import matplotlib.pyplot as plt\n",
    "\n",
    "for column in diabetes_data:\n",
    "    plt.figure() \n",
    "    plt.boxplot(diabetes_data[column]) \n",
    "    plt.title(column) \n",
    "    plt.show() "
   ]
  },
  {
   "cell_type": "code",
   "execution_count": 17,
   "id": "aefd590a",
   "metadata": {},
   "outputs": [
    {
     "name": "stdout",
     "output_type": "stream",
     "text": [
      "Pregnancies                   0\n",
      "Glucose                       5\n",
      "BloodPressure                35\n",
      "SkinThickness               227\n",
      "Insulin                     374\n",
      "BMI                          11\n",
      "DiabetesPedigreeFunction      0\n",
      "Age                           0\n",
      "Outcome                       6\n",
      "dtype: int64\n",
      "\n",
      "Pregnancies                 0\n",
      "Glucose                     0\n",
      "BloodPressure               0\n",
      "SkinThickness               0\n",
      "Insulin                     0\n",
      "BMI                         0\n",
      "DiabetesPedigreeFunction    0\n",
      "Age                         0\n",
      "Outcome                     6\n",
      "dtype: int64\n"
     ]
    }
   ],
   "source": [
    "print(diabetes_data.isna().sum())\n",
    "\n",
    "for column in ['Glucose', 'BloodPressure', 'SkinThickness', 'Insulin', 'BMI']:\n",
    "    median_value = diabetes_data[column].median()\n",
    "    diabetes_data[column].fillna(median_value, inplace=True)\n",
    "    \n",
    "print()\n",
    "print(diabetes_data.isna().sum())"
   ]
  },
  {
   "cell_type": "code",
   "execution_count": null,
   "id": "d04ab62e",
   "metadata": {},
   "outputs": [],
   "source": []
  }
 ],
 "metadata": {
  "kernelspec": {
   "display_name": "Python 3 (ipykernel)",
   "language": "python",
   "name": "python3"
  },
  "language_info": {
   "codemirror_mode": {
    "name": "ipython",
    "version": 3
   },
   "file_extension": ".py",
   "mimetype": "text/x-python",
   "name": "python",
   "nbconvert_exporter": "python",
   "pygments_lexer": "ipython3",
   "version": "3.9.13"
  }
 },
 "nbformat": 4,
 "nbformat_minor": 5
}
